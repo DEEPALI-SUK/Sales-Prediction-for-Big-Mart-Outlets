{
  "nbformat": 4,
  "nbformat_minor": 0,
  "metadata": {
    "colab": {
      "name": "Untitled16.ipynb",
      "provenance": []
    },
    "kernelspec": {
      "name": "python3",
      "display_name": "Python 3"
    },
    "language_info": {
      "name": "python"
    }
  },
  "cells": [
    {
      "cell_type": "markdown",
      "source": [
        "**Sales Prediction for Big Mart Outlets**"
      ],
      "metadata": {
        "id": "5teJ33B8ucWJ"
      }
    },
    {
      "cell_type": "code",
      "source": [
        "# importing the required libraries\n",
        "import pandas as pd\n",
        "import numpy as np\n",
        "import sklearn\n",
        "from sklearn.model_selection import train_test_split\n",
        "from sklearn.metrics import accuracy_score\n",
        "import matplotlib.pyplot as plt\n",
        "%matplotlib inline"
      ],
      "metadata": {
        "id": "K19QojxWug7T"
      },
      "execution_count": 1,
      "outputs": []
    },
    {
      "cell_type": "code",
      "source": [
        "#loading the train data\n",
        "train_data=pd.read_csv(\"/content/train_XnW6LSF.csv\")"
      ],
      "metadata": {
        "id": "5CWoemrgwK29"
      },
      "execution_count": 2,
      "outputs": []
    },
    {
      "cell_type": "code",
      "source": [
        "train_data.head()"
      ],
      "metadata": {
        "colab": {
          "base_uri": "https://localhost:8080/",
          "height": 357
        },
        "id": "r-zB-7ujwMFm",
        "outputId": "dc7be115-6c93-4cd2-b917-a9e397ce6a36"
      },
      "execution_count": 3,
      "outputs": [
        {
          "output_type": "execute_result",
          "data": {
            "text/html": [
              "\n",
              "  <div id=\"df-b5c9549a-748d-40ad-a5c2-01dd7451c193\">\n",
              "    <div class=\"colab-df-container\">\n",
              "      <div>\n",
              "<style scoped>\n",
              "    .dataframe tbody tr th:only-of-type {\n",
              "        vertical-align: middle;\n",
              "    }\n",
              "\n",
              "    .dataframe tbody tr th {\n",
              "        vertical-align: top;\n",
              "    }\n",
              "\n",
              "    .dataframe thead th {\n",
              "        text-align: right;\n",
              "    }\n",
              "</style>\n",
              "<table border=\"1\" class=\"dataframe\">\n",
              "  <thead>\n",
              "    <tr style=\"text-align: right;\">\n",
              "      <th></th>\n",
              "      <th>Item_Identifier</th>\n",
              "      <th>Item_Weight</th>\n",
              "      <th>Item_Fat_Content</th>\n",
              "      <th>Item_Visibility</th>\n",
              "      <th>Item_Type</th>\n",
              "      <th>Item_MRP</th>\n",
              "      <th>Outlet_Identifier</th>\n",
              "      <th>Outlet_Establishment_Year</th>\n",
              "      <th>Outlet_Size</th>\n",
              "      <th>Outlet_Location_Type</th>\n",
              "      <th>Outlet_Type</th>\n",
              "      <th>Item_Outlet_Sales</th>\n",
              "    </tr>\n",
              "  </thead>\n",
              "  <tbody>\n",
              "    <tr>\n",
              "      <th>0</th>\n",
              "      <td>FDA15</td>\n",
              "      <td>9.30</td>\n",
              "      <td>Low Fat</td>\n",
              "      <td>0.016047</td>\n",
              "      <td>Dairy</td>\n",
              "      <td>249.8092</td>\n",
              "      <td>OUT049</td>\n",
              "      <td>1999</td>\n",
              "      <td>Medium</td>\n",
              "      <td>Tier 1</td>\n",
              "      <td>Supermarket Type1</td>\n",
              "      <td>3735.1380</td>\n",
              "    </tr>\n",
              "    <tr>\n",
              "      <th>1</th>\n",
              "      <td>DRC01</td>\n",
              "      <td>5.92</td>\n",
              "      <td>Regular</td>\n",
              "      <td>0.019278</td>\n",
              "      <td>Soft Drinks</td>\n",
              "      <td>48.2692</td>\n",
              "      <td>OUT018</td>\n",
              "      <td>2009</td>\n",
              "      <td>Medium</td>\n",
              "      <td>Tier 3</td>\n",
              "      <td>Supermarket Type2</td>\n",
              "      <td>443.4228</td>\n",
              "    </tr>\n",
              "    <tr>\n",
              "      <th>2</th>\n",
              "      <td>FDN15</td>\n",
              "      <td>17.50</td>\n",
              "      <td>Low Fat</td>\n",
              "      <td>0.016760</td>\n",
              "      <td>Meat</td>\n",
              "      <td>141.6180</td>\n",
              "      <td>OUT049</td>\n",
              "      <td>1999</td>\n",
              "      <td>Medium</td>\n",
              "      <td>Tier 1</td>\n",
              "      <td>Supermarket Type1</td>\n",
              "      <td>2097.2700</td>\n",
              "    </tr>\n",
              "    <tr>\n",
              "      <th>3</th>\n",
              "      <td>FDX07</td>\n",
              "      <td>19.20</td>\n",
              "      <td>Regular</td>\n",
              "      <td>0.000000</td>\n",
              "      <td>Fruits and Vegetables</td>\n",
              "      <td>182.0950</td>\n",
              "      <td>OUT010</td>\n",
              "      <td>1998</td>\n",
              "      <td>NaN</td>\n",
              "      <td>Tier 3</td>\n",
              "      <td>Grocery Store</td>\n",
              "      <td>732.3800</td>\n",
              "    </tr>\n",
              "    <tr>\n",
              "      <th>4</th>\n",
              "      <td>NCD19</td>\n",
              "      <td>8.93</td>\n",
              "      <td>Low Fat</td>\n",
              "      <td>0.000000</td>\n",
              "      <td>Household</td>\n",
              "      <td>53.8614</td>\n",
              "      <td>OUT013</td>\n",
              "      <td>1987</td>\n",
              "      <td>High</td>\n",
              "      <td>Tier 3</td>\n",
              "      <td>Supermarket Type1</td>\n",
              "      <td>994.7052</td>\n",
              "    </tr>\n",
              "  </tbody>\n",
              "</table>\n",
              "</div>\n",
              "      <button class=\"colab-df-convert\" onclick=\"convertToInteractive('df-b5c9549a-748d-40ad-a5c2-01dd7451c193')\"\n",
              "              title=\"Convert this dataframe to an interactive table.\"\n",
              "              style=\"display:none;\">\n",
              "        \n",
              "  <svg xmlns=\"http://www.w3.org/2000/svg\" height=\"24px\"viewBox=\"0 0 24 24\"\n",
              "       width=\"24px\">\n",
              "    <path d=\"M0 0h24v24H0V0z\" fill=\"none\"/>\n",
              "    <path d=\"M18.56 5.44l.94 2.06.94-2.06 2.06-.94-2.06-.94-.94-2.06-.94 2.06-2.06.94zm-11 1L8.5 8.5l.94-2.06 2.06-.94-2.06-.94L8.5 2.5l-.94 2.06-2.06.94zm10 10l.94 2.06.94-2.06 2.06-.94-2.06-.94-.94-2.06-.94 2.06-2.06.94z\"/><path d=\"M17.41 7.96l-1.37-1.37c-.4-.4-.92-.59-1.43-.59-.52 0-1.04.2-1.43.59L10.3 9.45l-7.72 7.72c-.78.78-.78 2.05 0 2.83L4 21.41c.39.39.9.59 1.41.59.51 0 1.02-.2 1.41-.59l7.78-7.78 2.81-2.81c.8-.78.8-2.07 0-2.86zM5.41 20L4 18.59l7.72-7.72 1.47 1.35L5.41 20z\"/>\n",
              "  </svg>\n",
              "      </button>\n",
              "      \n",
              "  <style>\n",
              "    .colab-df-container {\n",
              "      display:flex;\n",
              "      flex-wrap:wrap;\n",
              "      gap: 12px;\n",
              "    }\n",
              "\n",
              "    .colab-df-convert {\n",
              "      background-color: #E8F0FE;\n",
              "      border: none;\n",
              "      border-radius: 50%;\n",
              "      cursor: pointer;\n",
              "      display: none;\n",
              "      fill: #1967D2;\n",
              "      height: 32px;\n",
              "      padding: 0 0 0 0;\n",
              "      width: 32px;\n",
              "    }\n",
              "\n",
              "    .colab-df-convert:hover {\n",
              "      background-color: #E2EBFA;\n",
              "      box-shadow: 0px 1px 2px rgba(60, 64, 67, 0.3), 0px 1px 3px 1px rgba(60, 64, 67, 0.15);\n",
              "      fill: #174EA6;\n",
              "    }\n",
              "\n",
              "    [theme=dark] .colab-df-convert {\n",
              "      background-color: #3B4455;\n",
              "      fill: #D2E3FC;\n",
              "    }\n",
              "\n",
              "    [theme=dark] .colab-df-convert:hover {\n",
              "      background-color: #434B5C;\n",
              "      box-shadow: 0px 1px 3px 1px rgba(0, 0, 0, 0.15);\n",
              "      filter: drop-shadow(0px 1px 2px rgba(0, 0, 0, 0.3));\n",
              "      fill: #FFFFFF;\n",
              "    }\n",
              "  </style>\n",
              "\n",
              "      <script>\n",
              "        const buttonEl =\n",
              "          document.querySelector('#df-b5c9549a-748d-40ad-a5c2-01dd7451c193 button.colab-df-convert');\n",
              "        buttonEl.style.display =\n",
              "          google.colab.kernel.accessAllowed ? 'block' : 'none';\n",
              "\n",
              "        async function convertToInteractive(key) {\n",
              "          const element = document.querySelector('#df-b5c9549a-748d-40ad-a5c2-01dd7451c193');\n",
              "          const dataTable =\n",
              "            await google.colab.kernel.invokeFunction('convertToInteractive',\n",
              "                                                     [key], {});\n",
              "          if (!dataTable) return;\n",
              "\n",
              "          const docLinkHtml = 'Like what you see? Visit the ' +\n",
              "            '<a target=\"_blank\" href=https://colab.research.google.com/notebooks/data_table.ipynb>data table notebook</a>'\n",
              "            + ' to learn more about interactive tables.';\n",
              "          element.innerHTML = '';\n",
              "          dataTable['output_type'] = 'display_data';\n",
              "          await google.colab.output.renderOutput(dataTable, element);\n",
              "          const docLink = document.createElement('div');\n",
              "          docLink.innerHTML = docLinkHtml;\n",
              "          element.appendChild(docLink);\n",
              "        }\n",
              "      </script>\n",
              "    </div>\n",
              "  </div>\n",
              "  "
            ],
            "text/plain": [
              "  Item_Identifier  Item_Weight  ...        Outlet_Type  Item_Outlet_Sales\n",
              "0           FDA15         9.30  ...  Supermarket Type1          3735.1380\n",
              "1           DRC01         5.92  ...  Supermarket Type2           443.4228\n",
              "2           FDN15        17.50  ...  Supermarket Type1          2097.2700\n",
              "3           FDX07        19.20  ...      Grocery Store           732.3800\n",
              "4           NCD19         8.93  ...  Supermarket Type1           994.7052\n",
              "\n",
              "[5 rows x 12 columns]"
            ]
          },
          "metadata": {},
          "execution_count": 3
        }
      ]
    },
    {
      "cell_type": "code",
      "source": [
        "#removing unnecessary features\n",
        "train_data = train_data.drop('Outlet_Identifier', axis=1)\n",
        "train_data = train_data.drop('Item_Identifier', axis=1)"
      ],
      "metadata": {
        "id": "rYp5zmcqwO1P"
      },
      "execution_count": 4,
      "outputs": []
    },
    {
      "cell_type": "markdown",
      "source": [
        "**Preprocessing**"
      ],
      "metadata": {
        "id": "N0OChoxhwoGJ"
      }
    },
    {
      "cell_type": "code",
      "source": [
        "#imputing missing values, checking missing values\n",
        "train_data.isnull().sum()"
      ],
      "metadata": {
        "colab": {
          "base_uri": "https://localhost:8080/"
        },
        "id": "oCvR_2CSwrkP",
        "outputId": "2da87aeb-48e7-434e-f904-a5b90323bffd"
      },
      "execution_count": 5,
      "outputs": [
        {
          "output_type": "execute_result",
          "data": {
            "text/plain": [
              "Item_Weight                  1463\n",
              "Item_Fat_Content                0\n",
              "Item_Visibility                 0\n",
              "Item_Type                       0\n",
              "Item_MRP                        0\n",
              "Outlet_Establishment_Year       0\n",
              "Outlet_Size                  2410\n",
              "Outlet_Location_Type            0\n",
              "Outlet_Type                     0\n",
              "Item_Outlet_Sales               0\n",
              "dtype: int64"
            ]
          },
          "metadata": {},
          "execution_count": 5
        }
      ]
    },
    {
      "cell_type": "code",
      "source": [
        "# Impute the missing values with mean imputation\n",
        "train_data.fillna(train_data.mean(), inplace=True)\n",
        "# Count the number of NaNs in the dataset to verify\n",
        "train_data.isnull().sum()"
      ],
      "metadata": {
        "colab": {
          "base_uri": "https://localhost:8080/"
        },
        "id": "EUR2yw-5wu7X",
        "outputId": "1478bbab-fdac-4b43-993e-dfed46e668aa"
      },
      "execution_count": 6,
      "outputs": [
        {
          "output_type": "execute_result",
          "data": {
            "text/plain": [
              "Item_Weight                     0\n",
              "Item_Fat_Content                0\n",
              "Item_Visibility                 0\n",
              "Item_Type                       0\n",
              "Item_MRP                        0\n",
              "Outlet_Establishment_Year       0\n",
              "Outlet_Size                  2410\n",
              "Outlet_Location_Type            0\n",
              "Outlet_Type                     0\n",
              "Item_Outlet_Sales               0\n",
              "dtype: int64"
            ]
          },
          "metadata": {},
          "execution_count": 6
        }
      ]
    },
    {
      "cell_type": "code",
      "source": [
        "# for non-numeric features\n",
        "train_data = train_data.fillna(train_data['Outlet_Size'].value_counts().index[0])\n",
        "train_data.isnull().sum()"
      ],
      "metadata": {
        "colab": {
          "base_uri": "https://localhost:8080/"
        },
        "id": "G0v49r0Cw0gO",
        "outputId": "015c8161-aa74-49af-ab52-586293568955"
      },
      "execution_count": 7,
      "outputs": [
        {
          "output_type": "execute_result",
          "data": {
            "text/plain": [
              "Item_Weight                  0\n",
              "Item_Fat_Content             0\n",
              "Item_Visibility              0\n",
              "Item_Type                    0\n",
              "Item_MRP                     0\n",
              "Outlet_Establishment_Year    0\n",
              "Outlet_Size                  0\n",
              "Outlet_Location_Type         0\n",
              "Outlet_Type                  0\n",
              "Item_Outlet_Sales            0\n",
              "dtype: int64"
            ]
          },
          "metadata": {},
          "execution_count": 7
        }
      ]
    },
    {
      "cell_type": "markdown",
      "source": [
        "**Converting non-numeric values to numeric values**"
      ],
      "metadata": {
        "id": "z6XgGGkyxCNP"
      }
    },
    {
      "cell_type": "code",
      "source": [
        "#Finding Numeric and Categorical columns\n",
        "col         = list(train_data)\n",
        "numeric_col     = ['Item_MRP', 'Item_Weight', 'Item_Visibility', 'Outlet_Establishment_Year','Item_Outlet_Sales']\n",
        "categorical_col = [i for i in col if i not in numeric_col ]\n",
        "print('\\nNumeric columns: ')\n",
        "print(numeric_col)\n",
        "print('\\nCategorical columns: ')\n",
        "print(categorical_col)"
      ],
      "metadata": {
        "colab": {
          "base_uri": "https://localhost:8080/"
        },
        "id": "2Gg8dUEDw8zm",
        "outputId": "e594e771-6a65-46ee-cf76-4ed52a47934c"
      },
      "execution_count": 8,
      "outputs": [
        {
          "output_type": "stream",
          "name": "stdout",
          "text": [
            "\n",
            "Numeric columns: \n",
            "['Item_MRP', 'Item_Weight', 'Item_Visibility', 'Outlet_Establishment_Year', 'Item_Outlet_Sales']\n",
            "\n",
            "Categorical columns: \n",
            "['Item_Fat_Content', 'Item_Type', 'Outlet_Size', 'Outlet_Location_Type', 'Outlet_Type']\n"
          ]
        }
      ]
    },
    {
      "cell_type": "code",
      "source": [
        "# Import LabelEncoder\n",
        "from sklearn.preprocessing import LabelEncoder\n",
        "# Instantiate LabelEncoder\n",
        "le = LabelEncoder()\n",
        "# Iterate over all the values of each column and extract their dtypes\n",
        "for col in categorical_col:\n",
        "        train_data[col]=le.fit_transform(train_data[col])"
      ],
      "metadata": {
        "id": "YpNARjmzxIcY"
      },
      "execution_count": 9,
      "outputs": []
    },
    {
      "cell_type": "code",
      "source": [
        "train_data.head()"
      ],
      "metadata": {
        "colab": {
          "base_uri": "https://localhost:8080/",
          "height": 270
        },
        "id": "KjIwwzzOxMjj",
        "outputId": "8965f06d-f714-4bb1-9c2c-a958e4cabfeb"
      },
      "execution_count": 10,
      "outputs": [
        {
          "output_type": "execute_result",
          "data": {
            "text/html": [
              "\n",
              "  <div id=\"df-ec7c3ad1-f3f0-4b61-9056-45c2c8240634\">\n",
              "    <div class=\"colab-df-container\">\n",
              "      <div>\n",
              "<style scoped>\n",
              "    .dataframe tbody tr th:only-of-type {\n",
              "        vertical-align: middle;\n",
              "    }\n",
              "\n",
              "    .dataframe tbody tr th {\n",
              "        vertical-align: top;\n",
              "    }\n",
              "\n",
              "    .dataframe thead th {\n",
              "        text-align: right;\n",
              "    }\n",
              "</style>\n",
              "<table border=\"1\" class=\"dataframe\">\n",
              "  <thead>\n",
              "    <tr style=\"text-align: right;\">\n",
              "      <th></th>\n",
              "      <th>Item_Weight</th>\n",
              "      <th>Item_Fat_Content</th>\n",
              "      <th>Item_Visibility</th>\n",
              "      <th>Item_Type</th>\n",
              "      <th>Item_MRP</th>\n",
              "      <th>Outlet_Establishment_Year</th>\n",
              "      <th>Outlet_Size</th>\n",
              "      <th>Outlet_Location_Type</th>\n",
              "      <th>Outlet_Type</th>\n",
              "      <th>Item_Outlet_Sales</th>\n",
              "    </tr>\n",
              "  </thead>\n",
              "  <tbody>\n",
              "    <tr>\n",
              "      <th>0</th>\n",
              "      <td>9.30</td>\n",
              "      <td>1</td>\n",
              "      <td>0.016047</td>\n",
              "      <td>4</td>\n",
              "      <td>249.8092</td>\n",
              "      <td>1999</td>\n",
              "      <td>1</td>\n",
              "      <td>0</td>\n",
              "      <td>1</td>\n",
              "      <td>3735.1380</td>\n",
              "    </tr>\n",
              "    <tr>\n",
              "      <th>1</th>\n",
              "      <td>5.92</td>\n",
              "      <td>2</td>\n",
              "      <td>0.019278</td>\n",
              "      <td>14</td>\n",
              "      <td>48.2692</td>\n",
              "      <td>2009</td>\n",
              "      <td>1</td>\n",
              "      <td>2</td>\n",
              "      <td>2</td>\n",
              "      <td>443.4228</td>\n",
              "    </tr>\n",
              "    <tr>\n",
              "      <th>2</th>\n",
              "      <td>17.50</td>\n",
              "      <td>1</td>\n",
              "      <td>0.016760</td>\n",
              "      <td>10</td>\n",
              "      <td>141.6180</td>\n",
              "      <td>1999</td>\n",
              "      <td>1</td>\n",
              "      <td>0</td>\n",
              "      <td>1</td>\n",
              "      <td>2097.2700</td>\n",
              "    </tr>\n",
              "    <tr>\n",
              "      <th>3</th>\n",
              "      <td>19.20</td>\n",
              "      <td>2</td>\n",
              "      <td>0.000000</td>\n",
              "      <td>6</td>\n",
              "      <td>182.0950</td>\n",
              "      <td>1998</td>\n",
              "      <td>1</td>\n",
              "      <td>2</td>\n",
              "      <td>0</td>\n",
              "      <td>732.3800</td>\n",
              "    </tr>\n",
              "    <tr>\n",
              "      <th>4</th>\n",
              "      <td>8.93</td>\n",
              "      <td>1</td>\n",
              "      <td>0.000000</td>\n",
              "      <td>9</td>\n",
              "      <td>53.8614</td>\n",
              "      <td>1987</td>\n",
              "      <td>0</td>\n",
              "      <td>2</td>\n",
              "      <td>1</td>\n",
              "      <td>994.7052</td>\n",
              "    </tr>\n",
              "  </tbody>\n",
              "</table>\n",
              "</div>\n",
              "      <button class=\"colab-df-convert\" onclick=\"convertToInteractive('df-ec7c3ad1-f3f0-4b61-9056-45c2c8240634')\"\n",
              "              title=\"Convert this dataframe to an interactive table.\"\n",
              "              style=\"display:none;\">\n",
              "        \n",
              "  <svg xmlns=\"http://www.w3.org/2000/svg\" height=\"24px\"viewBox=\"0 0 24 24\"\n",
              "       width=\"24px\">\n",
              "    <path d=\"M0 0h24v24H0V0z\" fill=\"none\"/>\n",
              "    <path d=\"M18.56 5.44l.94 2.06.94-2.06 2.06-.94-2.06-.94-.94-2.06-.94 2.06-2.06.94zm-11 1L8.5 8.5l.94-2.06 2.06-.94-2.06-.94L8.5 2.5l-.94 2.06-2.06.94zm10 10l.94 2.06.94-2.06 2.06-.94-2.06-.94-.94-2.06-.94 2.06-2.06.94z\"/><path d=\"M17.41 7.96l-1.37-1.37c-.4-.4-.92-.59-1.43-.59-.52 0-1.04.2-1.43.59L10.3 9.45l-7.72 7.72c-.78.78-.78 2.05 0 2.83L4 21.41c.39.39.9.59 1.41.59.51 0 1.02-.2 1.41-.59l7.78-7.78 2.81-2.81c.8-.78.8-2.07 0-2.86zM5.41 20L4 18.59l7.72-7.72 1.47 1.35L5.41 20z\"/>\n",
              "  </svg>\n",
              "      </button>\n",
              "      \n",
              "  <style>\n",
              "    .colab-df-container {\n",
              "      display:flex;\n",
              "      flex-wrap:wrap;\n",
              "      gap: 12px;\n",
              "    }\n",
              "\n",
              "    .colab-df-convert {\n",
              "      background-color: #E8F0FE;\n",
              "      border: none;\n",
              "      border-radius: 50%;\n",
              "      cursor: pointer;\n",
              "      display: none;\n",
              "      fill: #1967D2;\n",
              "      height: 32px;\n",
              "      padding: 0 0 0 0;\n",
              "      width: 32px;\n",
              "    }\n",
              "\n",
              "    .colab-df-convert:hover {\n",
              "      background-color: #E2EBFA;\n",
              "      box-shadow: 0px 1px 2px rgba(60, 64, 67, 0.3), 0px 1px 3px 1px rgba(60, 64, 67, 0.15);\n",
              "      fill: #174EA6;\n",
              "    }\n",
              "\n",
              "    [theme=dark] .colab-df-convert {\n",
              "      background-color: #3B4455;\n",
              "      fill: #D2E3FC;\n",
              "    }\n",
              "\n",
              "    [theme=dark] .colab-df-convert:hover {\n",
              "      background-color: #434B5C;\n",
              "      box-shadow: 0px 1px 3px 1px rgba(0, 0, 0, 0.15);\n",
              "      filter: drop-shadow(0px 1px 2px rgba(0, 0, 0, 0.3));\n",
              "      fill: #FFFFFF;\n",
              "    }\n",
              "  </style>\n",
              "\n",
              "      <script>\n",
              "        const buttonEl =\n",
              "          document.querySelector('#df-ec7c3ad1-f3f0-4b61-9056-45c2c8240634 button.colab-df-convert');\n",
              "        buttonEl.style.display =\n",
              "          google.colab.kernel.accessAllowed ? 'block' : 'none';\n",
              "\n",
              "        async function convertToInteractive(key) {\n",
              "          const element = document.querySelector('#df-ec7c3ad1-f3f0-4b61-9056-45c2c8240634');\n",
              "          const dataTable =\n",
              "            await google.colab.kernel.invokeFunction('convertToInteractive',\n",
              "                                                     [key], {});\n",
              "          if (!dataTable) return;\n",
              "\n",
              "          const docLinkHtml = 'Like what you see? Visit the ' +\n",
              "            '<a target=\"_blank\" href=https://colab.research.google.com/notebooks/data_table.ipynb>data table notebook</a>'\n",
              "            + ' to learn more about interactive tables.';\n",
              "          element.innerHTML = '';\n",
              "          dataTable['output_type'] = 'display_data';\n",
              "          await google.colab.output.renderOutput(dataTable, element);\n",
              "          const docLink = document.createElement('div');\n",
              "          docLink.innerHTML = docLinkHtml;\n",
              "          element.appendChild(docLink);\n",
              "        }\n",
              "      </script>\n",
              "    </div>\n",
              "  </div>\n",
              "  "
            ],
            "text/plain": [
              "   Item_Weight  Item_Fat_Content  ...  Outlet_Type  Item_Outlet_Sales\n",
              "0         9.30                 1  ...            1          3735.1380\n",
              "1         5.92                 2  ...            2           443.4228\n",
              "2        17.50                 1  ...            1          2097.2700\n",
              "3        19.20                 2  ...            0           732.3800\n",
              "4         8.93                 1  ...            1           994.7052\n",
              "\n",
              "[5 rows x 10 columns]"
            ]
          },
          "metadata": {},
          "execution_count": 10
        }
      ]
    },
    {
      "cell_type": "code",
      "source": [
        "# separating the independent and dependent variables\n",
        "# storing all the independent variables as X\n",
        "X = train_data.drop('Item_Outlet_Sales', axis=1)\n",
        "# storing the dependent variable as y\n",
        "y = train_data['Item_Outlet_Sales']"
      ],
      "metadata": {
        "id": "WTPb3rrVxfKV"
      },
      "execution_count": 11,
      "outputs": []
    },
    {
      "cell_type": "markdown",
      "source": [
        "**Doing same with test data**"
      ],
      "metadata": {
        "id": "Eqyd-cRzxjJW"
      }
    },
    {
      "cell_type": "code",
      "source": [
        "#loading the test data\n",
        "test_data=pd.read_csv(\"/content/test_FewQE9B.csv\")\n",
        "original_data=pd.read_csv(\"/content/test_FewQE9B.csv\")\n",
        "test_data.head()"
      ],
      "metadata": {
        "colab": {
          "base_uri": "https://localhost:8080/",
          "height": 357
        },
        "id": "jPUB0WiixqKj",
        "outputId": "762b8622-2cc4-410d-c1ca-64ed4208397a"
      },
      "execution_count": 12,
      "outputs": [
        {
          "output_type": "execute_result",
          "data": {
            "text/html": [
              "\n",
              "  <div id=\"df-0c470bab-87db-4753-b95f-232a79462c4b\">\n",
              "    <div class=\"colab-df-container\">\n",
              "      <div>\n",
              "<style scoped>\n",
              "    .dataframe tbody tr th:only-of-type {\n",
              "        vertical-align: middle;\n",
              "    }\n",
              "\n",
              "    .dataframe tbody tr th {\n",
              "        vertical-align: top;\n",
              "    }\n",
              "\n",
              "    .dataframe thead th {\n",
              "        text-align: right;\n",
              "    }\n",
              "</style>\n",
              "<table border=\"1\" class=\"dataframe\">\n",
              "  <thead>\n",
              "    <tr style=\"text-align: right;\">\n",
              "      <th></th>\n",
              "      <th>Item_Identifier</th>\n",
              "      <th>Item_Weight</th>\n",
              "      <th>Item_Fat_Content</th>\n",
              "      <th>Item_Visibility</th>\n",
              "      <th>Item_Type</th>\n",
              "      <th>Item_MRP</th>\n",
              "      <th>Outlet_Identifier</th>\n",
              "      <th>Outlet_Establishment_Year</th>\n",
              "      <th>Outlet_Size</th>\n",
              "      <th>Outlet_Location_Type</th>\n",
              "      <th>Outlet_Type</th>\n",
              "    </tr>\n",
              "  </thead>\n",
              "  <tbody>\n",
              "    <tr>\n",
              "      <th>0</th>\n",
              "      <td>FDW58</td>\n",
              "      <td>20.750</td>\n",
              "      <td>Low Fat</td>\n",
              "      <td>0.007565</td>\n",
              "      <td>Snack Foods</td>\n",
              "      <td>107.8622</td>\n",
              "      <td>OUT049</td>\n",
              "      <td>1999</td>\n",
              "      <td>Medium</td>\n",
              "      <td>Tier 1</td>\n",
              "      <td>Supermarket Type1</td>\n",
              "    </tr>\n",
              "    <tr>\n",
              "      <th>1</th>\n",
              "      <td>FDW14</td>\n",
              "      <td>8.300</td>\n",
              "      <td>reg</td>\n",
              "      <td>0.038428</td>\n",
              "      <td>Dairy</td>\n",
              "      <td>87.3198</td>\n",
              "      <td>OUT017</td>\n",
              "      <td>2007</td>\n",
              "      <td>NaN</td>\n",
              "      <td>Tier 2</td>\n",
              "      <td>Supermarket Type1</td>\n",
              "    </tr>\n",
              "    <tr>\n",
              "      <th>2</th>\n",
              "      <td>NCN55</td>\n",
              "      <td>14.600</td>\n",
              "      <td>Low Fat</td>\n",
              "      <td>0.099575</td>\n",
              "      <td>Others</td>\n",
              "      <td>241.7538</td>\n",
              "      <td>OUT010</td>\n",
              "      <td>1998</td>\n",
              "      <td>NaN</td>\n",
              "      <td>Tier 3</td>\n",
              "      <td>Grocery Store</td>\n",
              "    </tr>\n",
              "    <tr>\n",
              "      <th>3</th>\n",
              "      <td>FDQ58</td>\n",
              "      <td>7.315</td>\n",
              "      <td>Low Fat</td>\n",
              "      <td>0.015388</td>\n",
              "      <td>Snack Foods</td>\n",
              "      <td>155.0340</td>\n",
              "      <td>OUT017</td>\n",
              "      <td>2007</td>\n",
              "      <td>NaN</td>\n",
              "      <td>Tier 2</td>\n",
              "      <td>Supermarket Type1</td>\n",
              "    </tr>\n",
              "    <tr>\n",
              "      <th>4</th>\n",
              "      <td>FDY38</td>\n",
              "      <td>NaN</td>\n",
              "      <td>Regular</td>\n",
              "      <td>0.118599</td>\n",
              "      <td>Dairy</td>\n",
              "      <td>234.2300</td>\n",
              "      <td>OUT027</td>\n",
              "      <td>1985</td>\n",
              "      <td>Medium</td>\n",
              "      <td>Tier 3</td>\n",
              "      <td>Supermarket Type3</td>\n",
              "    </tr>\n",
              "  </tbody>\n",
              "</table>\n",
              "</div>\n",
              "      <button class=\"colab-df-convert\" onclick=\"convertToInteractive('df-0c470bab-87db-4753-b95f-232a79462c4b')\"\n",
              "              title=\"Convert this dataframe to an interactive table.\"\n",
              "              style=\"display:none;\">\n",
              "        \n",
              "  <svg xmlns=\"http://www.w3.org/2000/svg\" height=\"24px\"viewBox=\"0 0 24 24\"\n",
              "       width=\"24px\">\n",
              "    <path d=\"M0 0h24v24H0V0z\" fill=\"none\"/>\n",
              "    <path d=\"M18.56 5.44l.94 2.06.94-2.06 2.06-.94-2.06-.94-.94-2.06-.94 2.06-2.06.94zm-11 1L8.5 8.5l.94-2.06 2.06-.94-2.06-.94L8.5 2.5l-.94 2.06-2.06.94zm10 10l.94 2.06.94-2.06 2.06-.94-2.06-.94-.94-2.06-.94 2.06-2.06.94z\"/><path d=\"M17.41 7.96l-1.37-1.37c-.4-.4-.92-.59-1.43-.59-.52 0-1.04.2-1.43.59L10.3 9.45l-7.72 7.72c-.78.78-.78 2.05 0 2.83L4 21.41c.39.39.9.59 1.41.59.51 0 1.02-.2 1.41-.59l7.78-7.78 2.81-2.81c.8-.78.8-2.07 0-2.86zM5.41 20L4 18.59l7.72-7.72 1.47 1.35L5.41 20z\"/>\n",
              "  </svg>\n",
              "      </button>\n",
              "      \n",
              "  <style>\n",
              "    .colab-df-container {\n",
              "      display:flex;\n",
              "      flex-wrap:wrap;\n",
              "      gap: 12px;\n",
              "    }\n",
              "\n",
              "    .colab-df-convert {\n",
              "      background-color: #E8F0FE;\n",
              "      border: none;\n",
              "      border-radius: 50%;\n",
              "      cursor: pointer;\n",
              "      display: none;\n",
              "      fill: #1967D2;\n",
              "      height: 32px;\n",
              "      padding: 0 0 0 0;\n",
              "      width: 32px;\n",
              "    }\n",
              "\n",
              "    .colab-df-convert:hover {\n",
              "      background-color: #E2EBFA;\n",
              "      box-shadow: 0px 1px 2px rgba(60, 64, 67, 0.3), 0px 1px 3px 1px rgba(60, 64, 67, 0.15);\n",
              "      fill: #174EA6;\n",
              "    }\n",
              "\n",
              "    [theme=dark] .colab-df-convert {\n",
              "      background-color: #3B4455;\n",
              "      fill: #D2E3FC;\n",
              "    }\n",
              "\n",
              "    [theme=dark] .colab-df-convert:hover {\n",
              "      background-color: #434B5C;\n",
              "      box-shadow: 0px 1px 3px 1px rgba(0, 0, 0, 0.15);\n",
              "      filter: drop-shadow(0px 1px 2px rgba(0, 0, 0, 0.3));\n",
              "      fill: #FFFFFF;\n",
              "    }\n",
              "  </style>\n",
              "\n",
              "      <script>\n",
              "        const buttonEl =\n",
              "          document.querySelector('#df-0c470bab-87db-4753-b95f-232a79462c4b button.colab-df-convert');\n",
              "        buttonEl.style.display =\n",
              "          google.colab.kernel.accessAllowed ? 'block' : 'none';\n",
              "\n",
              "        async function convertToInteractive(key) {\n",
              "          const element = document.querySelector('#df-0c470bab-87db-4753-b95f-232a79462c4b');\n",
              "          const dataTable =\n",
              "            await google.colab.kernel.invokeFunction('convertToInteractive',\n",
              "                                                     [key], {});\n",
              "          if (!dataTable) return;\n",
              "\n",
              "          const docLinkHtml = 'Like what you see? Visit the ' +\n",
              "            '<a target=\"_blank\" href=https://colab.research.google.com/notebooks/data_table.ipynb>data table notebook</a>'\n",
              "            + ' to learn more about interactive tables.';\n",
              "          element.innerHTML = '';\n",
              "          dataTable['output_type'] = 'display_data';\n",
              "          await google.colab.output.renderOutput(dataTable, element);\n",
              "          const docLink = document.createElement('div');\n",
              "          docLink.innerHTML = docLinkHtml;\n",
              "          element.appendChild(docLink);\n",
              "        }\n",
              "      </script>\n",
              "    </div>\n",
              "  </div>\n",
              "  "
            ],
            "text/plain": [
              "  Item_Identifier  Item_Weight  ... Outlet_Location_Type        Outlet_Type\n",
              "0           FDW58       20.750  ...               Tier 1  Supermarket Type1\n",
              "1           FDW14        8.300  ...               Tier 2  Supermarket Type1\n",
              "2           NCN55       14.600  ...               Tier 3      Grocery Store\n",
              "3           FDQ58        7.315  ...               Tier 2  Supermarket Type1\n",
              "4           FDY38          NaN  ...               Tier 3  Supermarket Type3\n",
              "\n",
              "[5 rows x 11 columns]"
            ]
          },
          "metadata": {},
          "execution_count": 12
        }
      ]
    },
    {
      "cell_type": "code",
      "source": [
        "test_data = test_data.drop('Outlet_Identifier', axis=1)\n",
        "test_data = test_data.drop('Item_Identifier', axis=1)"
      ],
      "metadata": {
        "id": "Af6p3Cz8xtQI"
      },
      "execution_count": 13,
      "outputs": []
    },
    {
      "cell_type": "code",
      "source": [
        "#imputing missing values, checking missing values\n",
        "test_data.isnull().sum()"
      ],
      "metadata": {
        "colab": {
          "base_uri": "https://localhost:8080/"
        },
        "id": "x_vpu9mVxwr5",
        "outputId": "4f5d8de1-dd17-4194-e33f-5b84a60eb62c"
      },
      "execution_count": 14,
      "outputs": [
        {
          "output_type": "execute_result",
          "data": {
            "text/plain": [
              "Item_Weight                   976\n",
              "Item_Fat_Content                0\n",
              "Item_Visibility                 0\n",
              "Item_Type                       0\n",
              "Item_MRP                        0\n",
              "Outlet_Establishment_Year       0\n",
              "Outlet_Size                  1606\n",
              "Outlet_Location_Type            0\n",
              "Outlet_Type                     0\n",
              "dtype: int64"
            ]
          },
          "metadata": {},
          "execution_count": 14
        }
      ]
    },
    {
      "cell_type": "code",
      "source": [
        "# Impute the missing values with mean imputation\n",
        "test_data.fillna(test_data.mean(), inplace=True)\n",
        "# Count the number of NaNs in the dataset to verify\n",
        "test_data.isnull().sum()"
      ],
      "metadata": {
        "colab": {
          "base_uri": "https://localhost:8080/"
        },
        "id": "PYZB11tox4HN",
        "outputId": "9c771297-6210-423d-b9c9-2b8658234b69"
      },
      "execution_count": 15,
      "outputs": [
        {
          "output_type": "execute_result",
          "data": {
            "text/plain": [
              "Item_Weight                     0\n",
              "Item_Fat_Content                0\n",
              "Item_Visibility                 0\n",
              "Item_Type                       0\n",
              "Item_MRP                        0\n",
              "Outlet_Establishment_Year       0\n",
              "Outlet_Size                  1606\n",
              "Outlet_Location_Type            0\n",
              "Outlet_Type                     0\n",
              "dtype: int64"
            ]
          },
          "metadata": {},
          "execution_count": 15
        }
      ]
    },
    {
      "cell_type": "code",
      "source": [
        "test_data = test_data.fillna(test_data['Outlet_Size'].value_counts().index[0])\n",
        "test_data.isnull().sum()"
      ],
      "metadata": {
        "colab": {
          "base_uri": "https://localhost:8080/"
        },
        "id": "tNC7k7-Hx7b-",
        "outputId": "19479d82-b652-4165-c9f2-edaaa8f766ba"
      },
      "execution_count": 16,
      "outputs": [
        {
          "output_type": "execute_result",
          "data": {
            "text/plain": [
              "Item_Weight                  0\n",
              "Item_Fat_Content             0\n",
              "Item_Visibility              0\n",
              "Item_Type                    0\n",
              "Item_MRP                     0\n",
              "Outlet_Establishment_Year    0\n",
              "Outlet_Size                  0\n",
              "Outlet_Location_Type         0\n",
              "Outlet_Type                  0\n",
              "dtype: int64"
            ]
          },
          "metadata": {},
          "execution_count": 16
        }
      ]
    },
    {
      "cell_type": "code",
      "source": [
        "for col in categorical_col:\n",
        "        test_data[col]=le.fit_transform(test_data[col])"
      ],
      "metadata": {
        "id": "7l17eju-x-Ze"
      },
      "execution_count": 17,
      "outputs": []
    },
    {
      "cell_type": "markdown",
      "source": [
        "**Architecture of The Model**"
      ],
      "metadata": {
        "id": "VY4yxya9yBRH"
      }
    },
    {
      "cell_type": "code",
      "source": [
        "import keras\n",
        "import tensorflow as tf"
      ],
      "metadata": {
        "id": "HT9Wian7yH7S"
      },
      "execution_count": 18,
      "outputs": []
    },
    {
      "cell_type": "code",
      "source": [
        "# importing the sequential model\n",
        "from keras.models import Sequential"
      ],
      "metadata": {
        "id": "tRnEuMoHyKaC"
      },
      "execution_count": 19,
      "outputs": []
    },
    {
      "cell_type": "code",
      "source": [
        "# importing different layers from keras\n",
        "from keras.layers import InputLayer, Dense "
      ],
      "metadata": {
        "id": "xIcVnsYcyNSC"
      },
      "execution_count": 20,
      "outputs": []
    },
    {
      "cell_type": "code",
      "source": [
        "X.shape[1]"
      ],
      "metadata": {
        "colab": {
          "base_uri": "https://localhost:8080/"
        },
        "id": "I2-TFzngyY1m",
        "outputId": "ae9a77d8-1825-4b45-a713-6af0201f9876"
      },
      "execution_count": 21,
      "outputs": [
        {
          "output_type": "execute_result",
          "data": {
            "text/plain": [
              "9"
            ]
          },
          "metadata": {},
          "execution_count": 21
        }
      ]
    },
    {
      "cell_type": "code",
      "source": [
        "# defining input neurons\n",
        "input_layer_neurons = X.shape[1]"
      ],
      "metadata": {
        "id": "2zRO04_Pydei"
      },
      "execution_count": 22,
      "outputs": []
    },
    {
      "cell_type": "code",
      "source": [
        "output_layer_neurons=1"
      ],
      "metadata": {
        "id": "0opQOChXyhwM"
      },
      "execution_count": 23,
      "outputs": []
    },
    {
      "cell_type": "code",
      "source": [
        "# define hidden layers and neuron in each layer\n",
        "num_hidden_layers = 10\n",
        "hidden_layer_1 = 1000\n",
        "hidden_layer_2 = 950\n",
        "hidden_layer_3 = 900\n",
        "hidden_layer_4 = 850\n",
        "hidden_layer_5 = 700\n",
        "hidden_layer_6 = 650\n",
        "hidden_layer_7 = 600\n",
        "hidden_layer_8 = 550\n",
        "hidden_layer_9 = 500\n",
        "hidden_layer_10 = 450"
      ],
      "metadata": {
        "id": "VZFfTt5Ryk1w"
      },
      "execution_count": 24,
      "outputs": []
    },
    {
      "cell_type": "code",
      "source": [
        "# defining the architecture of the model\n",
        "model = Sequential()\n",
        "model.add(InputLayer(input_shape=(input_layer_neurons,)))\n",
        "model.add(Dense(units=hidden_layer_1, activation='relu'))\n",
        "model.add(Dense(units=hidden_layer_2, activation='relu'))\n",
        "model.add(Dense(units=hidden_layer_3, activation='relu'))\n",
        "model.add(Dense(units=hidden_layer_4, activation='relu'))\n",
        "model.add(Dense(units=hidden_layer_5, activation='relu'))\n",
        "model.add(Dense(units=hidden_layer_6, activation='relu'))\n",
        "model.add(Dense(units=hidden_layer_7, activation='relu'))\n",
        "model.add(Dense(units=hidden_layer_8, activation='relu'))\n",
        "model.add(Dense(units=hidden_layer_9, activation='relu'))\n",
        "model.add(Dense(units=hidden_layer_10, activation='relu'))\n",
        "model.add(Dense(units=output_layer_neurons, activation='linear'))"
      ],
      "metadata": {
        "id": "FYMYPj1iyoLZ"
      },
      "execution_count": 25,
      "outputs": []
    },
    {
      "cell_type": "code",
      "source": [
        "# summary of the model\n",
        "model.summary()"
      ],
      "metadata": {
        "colab": {
          "base_uri": "https://localhost:8080/"
        },
        "id": "O45SmAE8yrHT",
        "outputId": "66bae614-1917-487d-bde6-85ad0e8ae6b7"
      },
      "execution_count": 26,
      "outputs": [
        {
          "output_type": "stream",
          "name": "stdout",
          "text": [
            "Model: \"sequential\"\n",
            "_________________________________________________________________\n",
            " Layer (type)                Output Shape              Param #   \n",
            "=================================================================\n",
            " dense (Dense)               (None, 1000)              10000     \n",
            "                                                                 \n",
            " dense_1 (Dense)             (None, 950)               950950    \n",
            "                                                                 \n",
            " dense_2 (Dense)             (None, 900)               855900    \n",
            "                                                                 \n",
            " dense_3 (Dense)             (None, 850)               765850    \n",
            "                                                                 \n",
            " dense_4 (Dense)             (None, 700)               595700    \n",
            "                                                                 \n",
            " dense_5 (Dense)             (None, 650)               455650    \n",
            "                                                                 \n",
            " dense_6 (Dense)             (None, 600)               390600    \n",
            "                                                                 \n",
            " dense_7 (Dense)             (None, 550)               330550    \n",
            "                                                                 \n",
            " dense_8 (Dense)             (None, 500)               275500    \n",
            "                                                                 \n",
            " dense_9 (Dense)             (None, 450)               225450    \n",
            "                                                                 \n",
            " dense_10 (Dense)            (None, 1)                 451       \n",
            "                                                                 \n",
            "=================================================================\n",
            "Total params: 4,856,601\n",
            "Trainable params: 4,856,601\n",
            "Non-trainable params: 0\n",
            "_________________________________________________________________\n"
          ]
        }
      ]
    },
    {
      "cell_type": "markdown",
      "source": [
        "**Traing the Model**"
      ],
      "metadata": {
        "id": "sgl4M1hBytrp"
      }
    },
    {
      "cell_type": "code",
      "source": [
        "model.compile(loss='mse',optimizer='Adam',metrics=[tf.keras.metrics.RootMeanSquaredError()])"
      ],
      "metadata": {
        "id": "79sxEydKy0k8"
      },
      "execution_count": 27,
      "outputs": []
    },
    {
      "cell_type": "code",
      "source": [
        "model_history = model.fit(X, y, epochs=100)"
      ],
      "metadata": {
        "colab": {
          "base_uri": "https://localhost:8080/"
        },
        "id": "gOABP0Bvy42O",
        "outputId": "f0a458eb-1dca-4d4f-91aa-54d4f928f4df"
      },
      "execution_count": 28,
      "outputs": [
        {
          "output_type": "stream",
          "name": "stdout",
          "text": [
            "Epoch 1/100\n",
            "267/267 [==============================] - 19s 66ms/step - loss: 2674532.7500 - root_mean_squared_error: 1635.3999\n",
            "Epoch 2/100\n",
            "267/267 [==============================] - 18s 66ms/step - loss: 2101304.2500 - root_mean_squared_error: 1449.5876\n",
            "Epoch 3/100\n",
            "267/267 [==============================] - 17s 65ms/step - loss: 2170583.7500 - root_mean_squared_error: 1473.2902\n",
            "Epoch 4/100\n",
            "267/267 [==============================] - 18s 66ms/step - loss: 2046424.6250 - root_mean_squared_error: 1430.5330\n",
            "Epoch 5/100\n",
            "267/267 [==============================] - 18s 66ms/step - loss: 2008402.7500 - root_mean_squared_error: 1417.1813\n",
            "Epoch 6/100\n",
            "267/267 [==============================] - 18s 66ms/step - loss: 1945729.3750 - root_mean_squared_error: 1394.8940\n",
            "Epoch 7/100\n",
            "267/267 [==============================] - 18s 66ms/step - loss: 1894982.1250 - root_mean_squared_error: 1376.5835\n",
            "Epoch 8/100\n",
            "267/267 [==============================] - 18s 67ms/step - loss: 1836957.6250 - root_mean_squared_error: 1355.3441\n",
            "Epoch 9/100\n",
            "267/267 [==============================] - 18s 67ms/step - loss: 1759195.0000 - root_mean_squared_error: 1326.3464\n",
            "Epoch 10/100\n",
            "267/267 [==============================] - 18s 66ms/step - loss: 1705641.0000 - root_mean_squared_error: 1306.0020\n",
            "Epoch 11/100\n",
            "267/267 [==============================] - 18s 66ms/step - loss: 1682599.1250 - root_mean_squared_error: 1297.1504\n",
            "Epoch 12/100\n",
            "267/267 [==============================] - 18s 66ms/step - loss: 1643213.5000 - root_mean_squared_error: 1281.8789\n",
            "Epoch 13/100\n",
            "267/267 [==============================] - 18s 67ms/step - loss: 1648697.5000 - root_mean_squared_error: 1284.0161\n",
            "Epoch 14/100\n",
            "267/267 [==============================] - 18s 67ms/step - loss: 1696757.1250 - root_mean_squared_error: 1302.5963\n",
            "Epoch 15/100\n",
            "267/267 [==============================] - 18s 66ms/step - loss: 1629280.3750 - root_mean_squared_error: 1276.4326\n",
            "Epoch 16/100\n",
            "267/267 [==============================] - 18s 66ms/step - loss: 1539414.6250 - root_mean_squared_error: 1240.7314\n",
            "Epoch 17/100\n",
            "267/267 [==============================] - 18s 66ms/step - loss: 1610909.6250 - root_mean_squared_error: 1269.2162\n",
            "Epoch 18/100\n",
            "267/267 [==============================] - 18s 66ms/step - loss: 1603449.7500 - root_mean_squared_error: 1266.2739\n",
            "Epoch 19/100\n",
            "267/267 [==============================] - 18s 66ms/step - loss: 1504106.1250 - root_mean_squared_error: 1226.4200\n",
            "Epoch 20/100\n",
            "267/267 [==============================] - 17s 65ms/step - loss: 1597512.2500 - root_mean_squared_error: 1263.9274\n",
            "Epoch 21/100\n",
            "267/267 [==============================] - 17s 65ms/step - loss: 1536437.0000 - root_mean_squared_error: 1239.5310\n",
            "Epoch 22/100\n",
            "267/267 [==============================] - 18s 66ms/step - loss: 1485018.1250 - root_mean_squared_error: 1218.6132\n",
            "Epoch 23/100\n",
            "267/267 [==============================] - 18s 66ms/step - loss: 1439662.0000 - root_mean_squared_error: 1199.8591\n",
            "Epoch 24/100\n",
            "267/267 [==============================] - 18s 66ms/step - loss: 1419923.2500 - root_mean_squared_error: 1191.6053\n",
            "Epoch 25/100\n",
            "267/267 [==============================] - 18s 66ms/step - loss: 1513268.0000 - root_mean_squared_error: 1230.1495\n",
            "Epoch 26/100\n",
            "267/267 [==============================] - 17s 66ms/step - loss: 1506743.7500 - root_mean_squared_error: 1227.4949\n",
            "Epoch 27/100\n",
            "267/267 [==============================] - 18s 66ms/step - loss: 1461270.3750 - root_mean_squared_error: 1208.8302\n",
            "Epoch 28/100\n",
            "267/267 [==============================] - 18s 66ms/step - loss: 1431316.7500 - root_mean_squared_error: 1196.3765\n",
            "Epoch 29/100\n",
            "267/267 [==============================] - 17s 65ms/step - loss: 1537664.2500 - root_mean_squared_error: 1240.0259\n",
            "Epoch 30/100\n",
            "267/267 [==============================] - 17s 65ms/step - loss: 1511072.6250 - root_mean_squared_error: 1229.2570\n",
            "Epoch 31/100\n",
            "267/267 [==============================] - 18s 66ms/step - loss: 1552184.0000 - root_mean_squared_error: 1245.8668\n",
            "Epoch 32/100\n",
            "267/267 [==============================] - 18s 66ms/step - loss: 1452660.7500 - root_mean_squared_error: 1205.2638\n",
            "Epoch 33/100\n",
            "267/267 [==============================] - 18s 66ms/step - loss: 1456912.5000 - root_mean_squared_error: 1207.0262\n",
            "Epoch 34/100\n",
            "267/267 [==============================] - 18s 66ms/step - loss: 1532463.5000 - root_mean_squared_error: 1237.9271\n",
            "Epoch 35/100\n",
            "267/267 [==============================] - 18s 66ms/step - loss: 1461269.6250 - root_mean_squared_error: 1208.8298\n",
            "Epoch 36/100\n",
            "267/267 [==============================] - 18s 66ms/step - loss: 1375155.2500 - root_mean_squared_error: 1172.6702\n",
            "Epoch 37/100\n",
            "267/267 [==============================] - 17s 65ms/step - loss: 1548320.6250 - root_mean_squared_error: 1244.3153\n",
            "Epoch 38/100\n",
            "267/267 [==============================] - 17s 65ms/step - loss: 1340000.5000 - root_mean_squared_error: 1157.5839\n",
            "Epoch 39/100\n",
            "267/267 [==============================] - 17s 65ms/step - loss: 1524619.8750 - root_mean_squared_error: 1234.7550\n",
            "Epoch 40/100\n",
            "267/267 [==============================] - 17s 65ms/step - loss: 1490235.0000 - root_mean_squared_error: 1220.7518\n",
            "Epoch 41/100\n",
            "267/267 [==============================] - 17s 65ms/step - loss: 1510590.1250 - root_mean_squared_error: 1229.0607\n",
            "Epoch 42/100\n",
            "267/267 [==============================] - 17s 65ms/step - loss: 1364263.6250 - root_mean_squared_error: 1168.0170\n",
            "Epoch 43/100\n",
            "267/267 [==============================] - 17s 64ms/step - loss: 1568877.1250 - root_mean_squared_error: 1252.5482\n",
            "Epoch 44/100\n",
            "267/267 [==============================] - 17s 65ms/step - loss: 1493786.2500 - root_mean_squared_error: 1222.2054\n",
            "Epoch 45/100\n",
            "267/267 [==============================] - 17s 65ms/step - loss: 1440154.7500 - root_mean_squared_error: 1200.0645\n",
            "Epoch 46/100\n",
            "267/267 [==============================] - 18s 66ms/step - loss: 1493325.1250 - root_mean_squared_error: 1222.0168\n",
            "Epoch 47/100\n",
            "267/267 [==============================] - 17s 65ms/step - loss: 1522959.1250 - root_mean_squared_error: 1234.0823\n",
            "Epoch 48/100\n",
            "267/267 [==============================] - 17s 65ms/step - loss: 1485069.0000 - root_mean_squared_error: 1218.6340\n",
            "Epoch 49/100\n",
            "267/267 [==============================] - 18s 66ms/step - loss: 1476257.6250 - root_mean_squared_error: 1215.0134\n",
            "Epoch 50/100\n",
            "267/267 [==============================] - 18s 67ms/step - loss: 1485002.6250 - root_mean_squared_error: 1218.6068\n",
            "Epoch 51/100\n",
            "267/267 [==============================] - 18s 66ms/step - loss: 1460066.7500 - root_mean_squared_error: 1208.3323\n",
            "Epoch 52/100\n",
            "267/267 [==============================] - 18s 66ms/step - loss: 1432573.6250 - root_mean_squared_error: 1196.9017\n",
            "Epoch 53/100\n",
            "267/267 [==============================] - 18s 66ms/step - loss: 1440906.3750 - root_mean_squared_error: 1200.3776\n",
            "Epoch 54/100\n",
            "267/267 [==============================] - 17s 65ms/step - loss: 1487511.6250 - root_mean_squared_error: 1219.6359\n",
            "Epoch 55/100\n",
            "267/267 [==============================] - 17s 65ms/step - loss: 1425809.6250 - root_mean_squared_error: 1194.0728\n",
            "Epoch 56/100\n",
            "267/267 [==============================] - 17s 65ms/step - loss: 1389094.8750 - root_mean_squared_error: 1178.5986\n",
            "Epoch 57/100\n",
            "267/267 [==============================] - 17s 65ms/step - loss: 1451882.2500 - root_mean_squared_error: 1204.9408\n",
            "Epoch 58/100\n",
            "267/267 [==============================] - 18s 66ms/step - loss: 1361844.2500 - root_mean_squared_error: 1166.9808\n",
            "Epoch 59/100\n",
            "267/267 [==============================] - 17s 65ms/step - loss: 1307510.3750 - root_mean_squared_error: 1143.4642\n",
            "Epoch 60/100\n",
            "267/267 [==============================] - 17s 65ms/step - loss: 1427906.7500 - root_mean_squared_error: 1194.9506\n",
            "Epoch 61/100\n",
            "267/267 [==============================] - 18s 66ms/step - loss: 1445134.7500 - root_mean_squared_error: 1202.1376\n",
            "Epoch 62/100\n",
            "267/267 [==============================] - 18s 66ms/step - loss: 1318823.8750 - root_mean_squared_error: 1148.4005\n",
            "Epoch 63/100\n",
            "267/267 [==============================] - 18s 67ms/step - loss: 1285441.7500 - root_mean_squared_error: 1133.7732\n",
            "Epoch 64/100\n",
            "267/267 [==============================] - 18s 66ms/step - loss: 1360163.2500 - root_mean_squared_error: 1166.2604\n",
            "Epoch 65/100\n",
            "267/267 [==============================] - 17s 65ms/step - loss: 1492773.8750 - root_mean_squared_error: 1221.7913\n",
            "Epoch 66/100\n",
            "267/267 [==============================] - 18s 66ms/step - loss: 1448720.2500 - root_mean_squared_error: 1203.6279\n",
            "Epoch 67/100\n",
            "267/267 [==============================] - 17s 65ms/step - loss: 1457952.1250 - root_mean_squared_error: 1207.4569\n",
            "Epoch 68/100\n",
            "267/267 [==============================] - 17s 65ms/step - loss: 1421677.7500 - root_mean_squared_error: 1192.3413\n",
            "Epoch 69/100\n",
            "267/267 [==============================] - 17s 65ms/step - loss: 1339327.2500 - root_mean_squared_error: 1157.2931\n",
            "Epoch 70/100\n",
            "267/267 [==============================] - 17s 65ms/step - loss: 1378849.1250 - root_mean_squared_error: 1174.2440\n",
            "Epoch 71/100\n",
            "267/267 [==============================] - 17s 65ms/step - loss: 1476940.6250 - root_mean_squared_error: 1215.2944\n",
            "Epoch 72/100\n",
            "267/267 [==============================] - 17s 64ms/step - loss: 1402417.7500 - root_mean_squared_error: 1184.2372\n",
            "Epoch 73/100\n",
            "267/267 [==============================] - 17s 65ms/step - loss: 1462693.7500 - root_mean_squared_error: 1209.4188\n",
            "Epoch 74/100\n",
            "267/267 [==============================] - 17s 65ms/step - loss: 1451669.3750 - root_mean_squared_error: 1204.8524\n",
            "Epoch 75/100\n",
            "267/267 [==============================] - 17s 64ms/step - loss: 1470423.7500 - root_mean_squared_error: 1212.6104\n",
            "Epoch 76/100\n",
            "267/267 [==============================] - 17s 65ms/step - loss: 1452371.1250 - root_mean_squared_error: 1205.1436\n",
            "Epoch 77/100\n",
            "267/267 [==============================] - 17s 65ms/step - loss: 1485217.7500 - root_mean_squared_error: 1218.6951\n",
            "Epoch 78/100\n",
            "267/267 [==============================] - 17s 65ms/step - loss: 1436476.2500 - root_mean_squared_error: 1198.5309\n",
            "Epoch 79/100\n",
            "267/267 [==============================] - 17s 65ms/step - loss: 1425482.6250 - root_mean_squared_error: 1193.9358\n",
            "Epoch 80/100\n",
            "267/267 [==============================] - 17s 65ms/step - loss: 1502683.5000 - root_mean_squared_error: 1225.8400\n",
            "Epoch 81/100\n",
            "267/267 [==============================] - 17s 65ms/step - loss: 1400759.7500 - root_mean_squared_error: 1183.5370\n",
            "Epoch 82/100\n",
            "267/267 [==============================] - 17s 65ms/step - loss: 1469691.7500 - root_mean_squared_error: 1212.3085\n",
            "Epoch 83/100\n",
            "267/267 [==============================] - 17s 65ms/step - loss: 1425262.0000 - root_mean_squared_error: 1193.8434\n",
            "Epoch 84/100\n",
            "267/267 [==============================] - 17s 65ms/step - loss: 1446743.6250 - root_mean_squared_error: 1202.8065\n",
            "Epoch 85/100\n",
            "267/267 [==============================] - 17s 65ms/step - loss: 1421235.6250 - root_mean_squared_error: 1192.1559\n",
            "Epoch 86/100\n",
            "267/267 [==============================] - 18s 66ms/step - loss: 1427020.2500 - root_mean_squared_error: 1194.5795\n",
            "Epoch 87/100\n",
            "267/267 [==============================] - 18s 66ms/step - loss: 1362867.0000 - root_mean_squared_error: 1167.4189\n",
            "Epoch 88/100\n",
            "267/267 [==============================] - 18s 66ms/step - loss: 1419156.0000 - root_mean_squared_error: 1191.2833\n",
            "Epoch 89/100\n",
            "267/267 [==============================] - 18s 66ms/step - loss: 1422019.8750 - root_mean_squared_error: 1192.4847\n",
            "Epoch 90/100\n",
            "267/267 [==============================] - 18s 66ms/step - loss: 1466724.2500 - root_mean_squared_error: 1211.0839\n",
            "Epoch 91/100\n",
            "267/267 [==============================] - 18s 66ms/step - loss: 1365055.8750 - root_mean_squared_error: 1168.3561\n",
            "Epoch 92/100\n",
            "267/267 [==============================] - 18s 66ms/step - loss: 1399857.8750 - root_mean_squared_error: 1183.1559\n",
            "Epoch 93/100\n",
            "267/267 [==============================] - 17s 65ms/step - loss: 1285442.6250 - root_mean_squared_error: 1133.7737\n",
            "Epoch 94/100\n",
            "267/267 [==============================] - 17s 65ms/step - loss: 1309608.7500 - root_mean_squared_error: 1144.3813\n",
            "Epoch 95/100\n",
            "267/267 [==============================] - 17s 65ms/step - loss: 1473863.7500 - root_mean_squared_error: 1214.0280\n",
            "Epoch 96/100\n",
            "267/267 [==============================] - 18s 66ms/step - loss: 1392669.2500 - root_mean_squared_error: 1180.1141\n",
            "Epoch 97/100\n",
            "267/267 [==============================] - 17s 65ms/step - loss: 1365939.2500 - root_mean_squared_error: 1168.7340\n",
            "Epoch 98/100\n",
            "267/267 [==============================] - 17s 65ms/step - loss: 1326303.2500 - root_mean_squared_error: 1151.6523\n",
            "Epoch 99/100\n",
            "267/267 [==============================] - 17s 64ms/step - loss: 1434038.2500 - root_mean_squared_error: 1197.5133\n",
            "Epoch 100/100\n",
            "267/267 [==============================] - 17s 65ms/step - loss: 1399978.0000 - root_mean_squared_error: 1183.2067\n"
          ]
        }
      ]
    },
    {
      "cell_type": "code",
      "source": [
        "# getting predictions for the validation set\n",
        "prediction = model.predict(test_data)"
      ],
      "metadata": {
        "id": "T77H7pKwy-5t"
      },
      "execution_count": 29,
      "outputs": []
    },
    {
      "cell_type": "markdown",
      "source": [
        "**Converting to csv**"
      ],
      "metadata": {
        "id": "wPU-nkBGzDC2"
      }
    },
    {
      "cell_type": "code",
      "source": [
        "answer=pd.DataFrame(prediction, columns = ['Item_Outlet_Sales'])"
      ],
      "metadata": {
        "id": "5FPGbb5HzG5R"
      },
      "execution_count": 30,
      "outputs": []
    },
    {
      "cell_type": "code",
      "source": [
        "ans=pd.DataFrame()"
      ],
      "metadata": {
        "id": "a2GZZPEJzKfP"
      },
      "execution_count": 31,
      "outputs": []
    },
    {
      "cell_type": "code",
      "source": [
        "ans['Item_Identifier']=original_data['Item_Identifier']"
      ],
      "metadata": {
        "id": "WHB8jQ7uzNdP"
      },
      "execution_count": 32,
      "outputs": []
    },
    {
      "cell_type": "code",
      "source": [
        "ans['Outlet_Identifier']=original_data['Outlet_Identifier']"
      ],
      "metadata": {
        "id": "vnkxh9EVzQQJ"
      },
      "execution_count": 33,
      "outputs": []
    },
    {
      "cell_type": "code",
      "source": [
        "ans['Item_Outlet_Sales']=answer['Item_Outlet_Sales']"
      ],
      "metadata": {
        "id": "5HBNs-HVzTJy"
      },
      "execution_count": 34,
      "outputs": []
    },
    {
      "cell_type": "code",
      "source": [
        "ans.tail()"
      ],
      "metadata": {
        "colab": {
          "base_uri": "https://localhost:8080/",
          "height": 206
        },
        "id": "vl0_nEX6zT49",
        "outputId": "7e033052-2061-46b9-abcd-acbaa1be809b"
      },
      "execution_count": 35,
      "outputs": [
        {
          "output_type": "execute_result",
          "data": {
            "text/html": [
              "\n",
              "  <div id=\"df-a1f2356c-88f1-485f-b3c4-1de0f3e72bce\">\n",
              "    <div class=\"colab-df-container\">\n",
              "      <div>\n",
              "<style scoped>\n",
              "    .dataframe tbody tr th:only-of-type {\n",
              "        vertical-align: middle;\n",
              "    }\n",
              "\n",
              "    .dataframe tbody tr th {\n",
              "        vertical-align: top;\n",
              "    }\n",
              "\n",
              "    .dataframe thead th {\n",
              "        text-align: right;\n",
              "    }\n",
              "</style>\n",
              "<table border=\"1\" class=\"dataframe\">\n",
              "  <thead>\n",
              "    <tr style=\"text-align: right;\">\n",
              "      <th></th>\n",
              "      <th>Item_Identifier</th>\n",
              "      <th>Outlet_Identifier</th>\n",
              "      <th>Item_Outlet_Sales</th>\n",
              "    </tr>\n",
              "  </thead>\n",
              "  <tbody>\n",
              "    <tr>\n",
              "      <th>5676</th>\n",
              "      <td>FDB58</td>\n",
              "      <td>OUT046</td>\n",
              "      <td>2153.766357</td>\n",
              "    </tr>\n",
              "    <tr>\n",
              "      <th>5677</th>\n",
              "      <td>FDD47</td>\n",
              "      <td>OUT018</td>\n",
              "      <td>3072.425537</td>\n",
              "    </tr>\n",
              "    <tr>\n",
              "      <th>5678</th>\n",
              "      <td>NCO17</td>\n",
              "      <td>OUT045</td>\n",
              "      <td>1669.059448</td>\n",
              "    </tr>\n",
              "    <tr>\n",
              "      <th>5679</th>\n",
              "      <td>FDJ26</td>\n",
              "      <td>OUT017</td>\n",
              "      <td>3344.544922</td>\n",
              "    </tr>\n",
              "    <tr>\n",
              "      <th>5680</th>\n",
              "      <td>FDU37</td>\n",
              "      <td>OUT045</td>\n",
              "      <td>1119.414917</td>\n",
              "    </tr>\n",
              "  </tbody>\n",
              "</table>\n",
              "</div>\n",
              "      <button class=\"colab-df-convert\" onclick=\"convertToInteractive('df-a1f2356c-88f1-485f-b3c4-1de0f3e72bce')\"\n",
              "              title=\"Convert this dataframe to an interactive table.\"\n",
              "              style=\"display:none;\">\n",
              "        \n",
              "  <svg xmlns=\"http://www.w3.org/2000/svg\" height=\"24px\"viewBox=\"0 0 24 24\"\n",
              "       width=\"24px\">\n",
              "    <path d=\"M0 0h24v24H0V0z\" fill=\"none\"/>\n",
              "    <path d=\"M18.56 5.44l.94 2.06.94-2.06 2.06-.94-2.06-.94-.94-2.06-.94 2.06-2.06.94zm-11 1L8.5 8.5l.94-2.06 2.06-.94-2.06-.94L8.5 2.5l-.94 2.06-2.06.94zm10 10l.94 2.06.94-2.06 2.06-.94-2.06-.94-.94-2.06-.94 2.06-2.06.94z\"/><path d=\"M17.41 7.96l-1.37-1.37c-.4-.4-.92-.59-1.43-.59-.52 0-1.04.2-1.43.59L10.3 9.45l-7.72 7.72c-.78.78-.78 2.05 0 2.83L4 21.41c.39.39.9.59 1.41.59.51 0 1.02-.2 1.41-.59l7.78-7.78 2.81-2.81c.8-.78.8-2.07 0-2.86zM5.41 20L4 18.59l7.72-7.72 1.47 1.35L5.41 20z\"/>\n",
              "  </svg>\n",
              "      </button>\n",
              "      \n",
              "  <style>\n",
              "    .colab-df-container {\n",
              "      display:flex;\n",
              "      flex-wrap:wrap;\n",
              "      gap: 12px;\n",
              "    }\n",
              "\n",
              "    .colab-df-convert {\n",
              "      background-color: #E8F0FE;\n",
              "      border: none;\n",
              "      border-radius: 50%;\n",
              "      cursor: pointer;\n",
              "      display: none;\n",
              "      fill: #1967D2;\n",
              "      height: 32px;\n",
              "      padding: 0 0 0 0;\n",
              "      width: 32px;\n",
              "    }\n",
              "\n",
              "    .colab-df-convert:hover {\n",
              "      background-color: #E2EBFA;\n",
              "      box-shadow: 0px 1px 2px rgba(60, 64, 67, 0.3), 0px 1px 3px 1px rgba(60, 64, 67, 0.15);\n",
              "      fill: #174EA6;\n",
              "    }\n",
              "\n",
              "    [theme=dark] .colab-df-convert {\n",
              "      background-color: #3B4455;\n",
              "      fill: #D2E3FC;\n",
              "    }\n",
              "\n",
              "    [theme=dark] .colab-df-convert:hover {\n",
              "      background-color: #434B5C;\n",
              "      box-shadow: 0px 1px 3px 1px rgba(0, 0, 0, 0.15);\n",
              "      filter: drop-shadow(0px 1px 2px rgba(0, 0, 0, 0.3));\n",
              "      fill: #FFFFFF;\n",
              "    }\n",
              "  </style>\n",
              "\n",
              "      <script>\n",
              "        const buttonEl =\n",
              "          document.querySelector('#df-a1f2356c-88f1-485f-b3c4-1de0f3e72bce button.colab-df-convert');\n",
              "        buttonEl.style.display =\n",
              "          google.colab.kernel.accessAllowed ? 'block' : 'none';\n",
              "\n",
              "        async function convertToInteractive(key) {\n",
              "          const element = document.querySelector('#df-a1f2356c-88f1-485f-b3c4-1de0f3e72bce');\n",
              "          const dataTable =\n",
              "            await google.colab.kernel.invokeFunction('convertToInteractive',\n",
              "                                                     [key], {});\n",
              "          if (!dataTable) return;\n",
              "\n",
              "          const docLinkHtml = 'Like what you see? Visit the ' +\n",
              "            '<a target=\"_blank\" href=https://colab.research.google.com/notebooks/data_table.ipynb>data table notebook</a>'\n",
              "            + ' to learn more about interactive tables.';\n",
              "          element.innerHTML = '';\n",
              "          dataTable['output_type'] = 'display_data';\n",
              "          await google.colab.output.renderOutput(dataTable, element);\n",
              "          const docLink = document.createElement('div');\n",
              "          docLink.innerHTML = docLinkHtml;\n",
              "          element.appendChild(docLink);\n",
              "        }\n",
              "      </script>\n",
              "    </div>\n",
              "  </div>\n",
              "  "
            ],
            "text/plain": [
              "     Item_Identifier Outlet_Identifier  Item_Outlet_Sales\n",
              "5676           FDB58            OUT046        2153.766357\n",
              "5677           FDD47            OUT018        3072.425537\n",
              "5678           NCO17            OUT045        1669.059448\n",
              "5679           FDJ26            OUT017        3344.544922\n",
              "5680           FDU37            OUT045        1119.414917"
            ]
          },
          "metadata": {},
          "execution_count": 35
        }
      ]
    },
    {
      "cell_type": "code",
      "source": [
        "ans.to_csv('Submission.csv', index=False)"
      ],
      "metadata": {
        "id": "t4DavfoW4OB8"
      },
      "execution_count": 36,
      "outputs": []
    }
  ]
}